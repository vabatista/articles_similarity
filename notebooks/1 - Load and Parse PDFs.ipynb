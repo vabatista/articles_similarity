{
 "cells": [
  {
   "cell_type": "markdown",
   "id": "944f3e1a-bc5e-44f1-961c-db5886d352dd",
   "metadata": {},
   "source": [
    "# 1 - Load and Parse Scientific Papers to JSON\n",
    "\n",
    "In this notebook I read a list of papers in PDF format from filesystem and parse them using [scipdf parser](https://github.com/titipata/scipdf_parser).\n",
    "\n",
    "The dataset used here was grabbed from [Interspeech 2021 proceedings](https://www.interspeech2021.org/download/interspeech2021-proceedings.zip?revB )"
   ]
  },
  {
   "cell_type": "code",
   "execution_count": 10,
   "id": "c8afe64a-5b21-45db-9930-9fe636e8df52",
   "metadata": {},
   "outputs": [],
   "source": [
    "# import libraries\n",
    "import json\n",
    "import scipdf\n",
    "import os\n",
    "import glob\n",
    "from tqdm import tqdm"
   ]
  },
  {
   "cell_type": "code",
   "execution_count": 4,
   "id": "b2b21475-8836-4900-a0e6-7d79935b473d",
   "metadata": {},
   "outputs": [
    {
     "name": "stdout",
     "output_type": "stream",
     "text": [
      "There are 992 articles in path\n"
     ]
    }
   ],
   "source": [
    "# Load list of files\n",
    "path_to_articles = '/home/vitor/datasets/interspeech2021/IS2021/PDF/AUTHOR'\n",
    "files = glob.glob(os.path.join(path_to_articles, '*'))\n",
    "print('There are %d articles in path' % len(files))"
   ]
  },
  {
   "cell_type": "code",
   "execution_count": 5,
   "id": "d0232aa5-91cc-4152-998e-58fba2292449",
   "metadata": {},
   "outputs": [],
   "source": [
    "# start scipdf server (run it on shell) \n",
    "#!bash serve_grobid.sh"
   ]
  },
  {
   "cell_type": "code",
   "execution_count": 18,
   "id": "43c28204-52ba-4c98-b7bd-6c0afc8e548f",
   "metadata": {
    "tags": []
   },
   "outputs": [
    {
     "name": "stderr",
     "output_type": "stream",
     "text": [
      "100%|██████████████████████████████████████████████████████████████| 992/992 [31:45<00:00,  1.92s/it]\n"
     ]
    }
   ],
   "source": [
    "## process all pdfs and put into a list of dict\n",
    "parsed_articles = []\n",
    "for file in tqdm(files):\n",
    "    try:\n",
    "        parsed_articles.append(scipdf.parse_pdf_to_dict(file))\n",
    "    except Exception as ex:\n",
    "        print('Error reading file ', file, ' -- ', ex)\n"
   ]
  },
  {
   "cell_type": "code",
   "execution_count": 20,
   "id": "3907ff59-f5f8-479b-96d8-107c5846fcf8",
   "metadata": {},
   "outputs": [],
   "source": [
    "# save to json for later step\n",
    "with open('../articles.json', 'w') as f:\n",
    "    json.dump(parsed_articles , f)"
   ]
  },
  {
   "cell_type": "code",
   "execution_count": null,
   "id": "54e60f3b-14e4-4711-9eed-ed207611beed",
   "metadata": {},
   "outputs": [],
   "source": []
  }
 ],
 "metadata": {
  "kernelspec": {
   "display_name": "Python 3 (ipykernel)",
   "language": "python",
   "name": "python3"
  },
  "language_info": {
   "codemirror_mode": {
    "name": "ipython",
    "version": 3
   },
   "file_extension": ".py",
   "mimetype": "text/x-python",
   "name": "python",
   "nbconvert_exporter": "python",
   "pygments_lexer": "ipython3",
   "version": "3.9.12"
  }
 },
 "nbformat": 4,
 "nbformat_minor": 5
}
